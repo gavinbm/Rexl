{
 "cells": [
  {
   "cell_type": "code",
   "execution_count": 2,
   "metadata": {},
   "outputs": [],
   "source": [
    "import itertools\n",
    "import math\n",
    "import numpy as np\n",
    "import pandas as pd\n",
    "from scipy import stats\n",
    "import sys"
   ]
  },
  {
   "attachments": {},
   "cell_type": "markdown",
   "metadata": {},
   "source": [
    "Generate sequences and their corresponding REXL definitions"
   ]
  },
  {
   "cell_type": "code",
   "execution_count": 2,
   "metadata": {},
   "outputs": [
    {
     "name": "stdout",
     "output_type": "stream",
     "text": [
      "`` A0_1 := [-0.20470766,  0.47894334, -0.51943872, -0.5557303 ,  1.96578057,  1.39340583,  0.09290788,  0.28174615,  0.76902257,  1.24643474,  1.00718936, -1.29622111,  0.27499163,  0.22891288,  1.35291684,  0.88642934, -2.00163731, -0.37184254,  1.66902531, -0.43856974, -0.53974145,  0.47698501,  3.24894392, -1.02122752, -0.5770873 ,  0.12412128,  0.30261356,  0.52377207,  0.00094028,  1.34380979];\n",
      "`` B0_1 := [-0.71354399, -0.83115354, -2.37023165, -1.86076079, -0.8607574 ,  0.56014529, -1.26593449,  0.11982712, -1.06351245,  0.33288272, -2.35941881, -0.19954296, -1.54199553, -0.97073591, -1.30703025,  0.28634975,  0.37798411, -0.75388653,  0.33128565,  1.34974221,  0.06987669,  0.24667411, -0.0118616 ,  1.00481159,  1.32719461, -0.91926156, -1.54910644,  0.0221846 ,  0.75836315, -0.66052433];\n",
      "`` A0_5 := [  4.31290041,  -0.05015951,   0.25004678,   3.35107797,   4.26482516,  -4.77934426,  -0.1174666 , -11.52116939,  -3.26234421,  -6.09150988,  -6.66304854,   5.37311345,   3.61820753,   3.45000926,   5.00771721,  -2.51543696,  -3.11137113,  -4.60584304,  -3.63106746,   1.11447773,   0.2565805 ,  -5.78859733,   4.08353468,   2.16804803,   5.05368473,   9.12437606,  -4.98759124,   4.25295549,  -0.65788801,   4.56207076];\n",
      "`` A1_1 := [ 1.18821068,  3.16946144,  0.8850718 ,  3.00369736,  1.02961015,  1.79525316,  1.11810975,  0.25146845,  1.58496974,  1.15267657, -0.56565729,  0.43745981,  0.96733586,  0.0709938 ,  0.51742735,  0.96373615,  2.09539006,  1.98092848,  0.41051231,  2.58170009,  0.47126517,  1.45700187,  1.92996876, -0.56927061, -0.02248698,  0.59717308,  1.22048686,  0.80659889,  1.66915834, -0.64898482];\n",
      "`` N0_1 := [    0.0/0.0, -0.20470766,  0.47894334, -0.51943872, -0.5557303 ,  1.96578057,  1.39340583,  0.09290788,  0.28174615,  0.76902257,  1.24643474,  1.00718936, -1.29622111,  0.27499163,  0.22891288,  1.35291684,  0.88642934, -2.00163731, -0.37184254,  1.66902531, -0.43856974, -0.53974145,  0.47698501,  3.24894392, -1.02122752, -0.5770873 ,  0.12412128,  0.30261356,  0.52377207,  0.00094028,  1.34380979];\n"
     ]
    }
   ],
   "source": [
    "np.random.seed(12345)\n",
    "np.set_printoptions(\n",
    "    precision=None,\n",
    "    nanstr='0.0/0.0',\n",
    "    infstr='1.0/0.0',\n",
    "    threshold=sys.maxsize,\n",
    "    linewidth=sys.maxsize,\n",
    "    floatmode='maxprec',\n",
    "    suppress=True)\n",
    "\n",
    "A0_1 = (np.random.normal(0, 1, 30), \"A0_1\")\n",
    "B0_1 = (np.random.normal(0, 1, 30), \"B0_1\")\n",
    "A0_5 = (np.random.normal(0, 5, 30), \"A0_5\")\n",
    "A1_1 = (np.random.normal(1, 1, 30), \"A1_1\")\n",
    "N0_1 = (np.concatenate(([math.nan], A0_1[0])), \"N0_1\")\n",
    "\n",
    "samps = [A0_1, B0_1, A0_5, A1_1, N0_1]\n",
    "\n",
    "for x, name in samps:\n",
    "    print(f\"`` {name} := {np.array2string(x, separator=', ')};\")"
   ]
  },
  {
   "attachments": {},
   "cell_type": "markdown",
   "metadata": {},
   "source": [
    "Sequence definitions"
   ]
  },
  {
   "cell_type": "code",
   "execution_count": 3,
   "metadata": {},
   "outputs": [
    {
     "name": "stdout",
     "output_type": "stream",
     "text": [
      "`` Samps := [ (A0_1, \"A0_1\"), (B0_1, \"B0_1\"), (A0_5, \"A0_5\"), (A1_1, \"A1_1\"), (N0_1, \"N0_1\"), (null, \"null\") ];\n",
      "`` Pairs := [ ((A0_1, \"A0_1\"), (B0_1, \"B0_1\")), ((A0_1, \"A0_1\"), (A0_5, \"A0_5\")), ((A0_1, \"A0_1\"), (A1_1, \"A1_1\")), ((A0_1, \"A0_1\"), (N0_1, \"N0_1\")), ((B0_1, \"B0_1\"), (A0_5, \"A0_5\")), ((B0_1, \"B0_1\"), (A1_1, \"A1_1\")), ((B0_1, \"B0_1\"), (N0_1, \"N0_1\")), ((A0_5, \"A0_5\"), (A1_1, \"A1_1\")), ((A0_5, \"A0_5\"), (N0_1, \"N0_1\")), ((A1_1, \"A1_1\"), (N0_1, \"N0_1\")), ((null, \"null\"), (null, \"null\")), ((A0_1, \"A0_1\"), (null, \"null\")), ((null, \"null\"), (A0_1, \"A0_1\")) ];\n"
     ]
    }
   ],
   "source": [
    "def fmt_seq(seq_items):\n",
    "    return '[ ' + ', '.join(str(s) for s in seq_items) + ' ]'\n",
    "\n",
    "def fmt_tup_w_name(samp):\n",
    "    return f'({samp[1]}, \"{samp[1]}\")'\n",
    "\n",
    "# Include null sequences for the REXL definitions, but not for use in the Python code.\n",
    "null_pair = (\"null\", \"null\")\n",
    "null_pairs = []\n",
    "for i in range(3):\n",
    "    a = samps[0] if i & 1 != 0 else null_pair\n",
    "    b = samps[0] if i & 2 != 0 else null_pair\n",
    "    null_pairs.append((a, b))\n",
    "\n",
    "samps_def = fmt_seq(fmt_tup_w_name(s) for s in samps + [null_pair])\n",
    "print(f\"`` Samps := {samps_def};\")\n",
    "\n",
    "pairs = list(itertools.combinations(samps, 2))\n",
    "\n",
    "pairs_def = fmt_seq([f'({fmt_tup_w_name(p[0])}, {fmt_tup_w_name(p[1])})' for p in pairs + null_pairs ])\n",
    "print(f\"`` Pairs := {pairs_def};\")"
   ]
  },
  {
   "attachments": {},
   "cell_type": "markdown",
   "metadata": {},
   "source": [
    "Boilerplate"
   ]
  },
  {
   "cell_type": "code",
   "execution_count": 4,
   "metadata": {},
   "outputs": [],
   "source": [
    "alts = [\"two-sided\", \"greater\", \"less\"]\n",
    "\n",
    "pd.options.display.max_rows = None\n",
    "pd.options.display.max_columns = None\n",
    "pd.options.display.max_colwidth = None\n",
    "pd.options.display.width = 1000\n",
    "pd.options.display.float_format = lambda val: f'{val:.15g}'"
   ]
  },
  {
   "attachments": {},
   "cell_type": "markdown",
   "metadata": {},
   "source": [
    "Generate one-sample results"
   ]
  },
  {
   "cell_type": "code",
   "execution_count": 5,
   "metadata": {},
   "outputs": [],
   "source": [
    "one_table = []\n",
    "for x, name in samps:\n",
    "    for mean in [-1, 0, 1]:\n",
    "        \n",
    "        res = {\n",
    "            \"X\": name,\n",
    "            \"Popmean\": mean\n",
    "        }\n",
    "\n",
    "        for alt in alts:\n",
    "            tres = stats.ttest_1samp(x, mean, alternative=alt)\n",
    "            res[alt.capitalize()] = tres.pvalue\n",
    "            res[\"T\"] = tres.statistic\n",
    "            res[\"Dof\"] = tres.df\n",
    "\n",
    "        one_table.append(res)"
   ]
  },
  {
   "attachments": {},
   "cell_type": "markdown",
   "metadata": {},
   "source": [
    "Generate two-sample results"
   ]
  },
  {
   "cell_type": "code",
   "execution_count": 6,
   "metadata": {},
   "outputs": [],
   "source": [
    "ind_table = []\n",
    "for p in pairs:\n",
    "    x, y = [s[0] for s in p]\n",
    "    xname, yname = [s[1] for s in p]\n",
    "    for eqv in [False, True]:\n",
    "        \n",
    "        res = {\n",
    "            \"X\": xname,\n",
    "            \"Y\": yname,\n",
    "            \"EqualVar\": eqv\n",
    "        }\n",
    "\n",
    "        for alt in alts:\n",
    "            tres = stats.ttest_ind(x, y, equal_var=eqv, alternative=alt)\n",
    "            res[alt.capitalize()] = tres.pvalue\n",
    "            res[\"T\"] = tres.statistic\n",
    "\n",
    "        ind_table.append(res)"
   ]
  },
  {
   "attachments": {},
   "cell_type": "markdown",
   "metadata": {},
   "source": [
    "Generate paired results"
   ]
  },
  {
   "cell_type": "code",
   "execution_count": 7,
   "metadata": {},
   "outputs": [],
   "source": [
    "paired_table = []\n",
    "for p in pairs:\n",
    "    x, y = [s[0] for s in p]\n",
    "    xname, yname = [s[1] for s in p]\n",
    "\n",
    "    res = {\n",
    "        \"X\": xname,\n",
    "        \"Y\": yname,\n",
    "    }\n",
    "\n",
    "    for alt in alts:\n",
    "        tres = stats.ttest_rel(x, y, alternative=alt)\n",
    "        res[alt.capitalize()] = tres.pvalue\n",
    "        res[\"T\"] = tres.statistic\n",
    "        res[\"Dof\"] = tres.df\n",
    "    \n",
    "    paired_table.append(res)"
   ]
  },
  {
   "attachments": {},
   "cell_type": "markdown",
   "metadata": {},
   "source": [
    "# One-Sample t-test Results"
   ]
  },
  {
   "cell_type": "code",
   "execution_count": 8,
   "metadata": {},
   "outputs": [
    {
     "name": "stdout",
     "output_type": "stream",
     "text": [
      "       X  Popmean  Dof            Two-sided                 Less              Greater                  T\n",
      "0   A0_1       -1   29 1.37241229399909e-07    0.999999931379385 6.86206146999544e-08     6.906285439073\n",
      "1   A0_1        0   29   0.0915780132254632    0.954210993387268   0.0457890066127316   1.74498284814515\n",
      "2   A0_1        1   29  0.00189799253299714  0.00094899626649857    0.999051003733501   -3.4163197427827\n",
      "3   B0_1       -1   29  0.00351283226531763    0.998243583867341  0.00175641613265882   3.17768752986157\n",
      "4   B0_1        0   29   0.0318643803064591   0.0159321901532296     0.98406780984677  -2.25485643836581\n",
      "5   B0_1        1   29 1.77809826855226e-08 8.89049134276131e-09    0.999999991109509  -7.68740040659319\n",
      "6   A0_5       -1   29    0.222076812290201      0.8889615938549      0.1110384061451   1.24782613510751\n",
      "7   A0_5        0   29    0.925286930184926    0.537356534907537    0.462643465092463 0.0945952332178155\n",
      "8   A0_5        1   29    0.298504309864489    0.149252154932244    0.850747845067755  -1.05863566867188\n",
      "9   A1_1       -1   29 2.24612537865371e-12    0.999999999998877 1.12306268932686e-12    11.557161182519\n",
      "10  A1_1        0   29  1.9622677329485e-06    0.999999018866134 9.81133866474251e-07   5.92403415563989\n",
      "11  A1_1        1   29    0.773192793932291    0.613403603033854    0.386596396966146  0.290907128760821\n",
      "12  N0_1       -1  NaN                  NaN                  NaN                  NaN                NaN\n",
      "13  N0_1        0  NaN                  NaN                  NaN                  NaN                NaN\n",
      "14  N0_1        1  NaN                  NaN                  NaN                  NaN                NaN\n"
     ]
    }
   ],
   "source": [
    "one_frame = pd.DataFrame(one_table).reindex(columns=[\"X\", \"Popmean\", \"Dof\", \"Two-sided\", \"Less\", \"Greater\", \"T\"])\n",
    "print(one_frame)"
   ]
  },
  {
   "attachments": {},
   "cell_type": "markdown",
   "metadata": {},
   "source": [
    "# Two-Sample t-test Results"
   ]
  },
  {
   "cell_type": "code",
   "execution_count": 9,
   "metadata": {},
   "outputs": [
    {
     "name": "stdout",
     "output_type": "stream",
     "text": [
      "       X     Y  EqualVar            Two-sided                 Less             Greater                  T\n",
      "0   A0_1  B0_1      True    0.006594935747841     0.99670253212608  0.0032974678739205   2.81815889328936\n",
      "1   A0_1  B0_1     False  0.00659989372740455    0.996700053136298 0.00329994686370227   2.81815889328936\n",
      "2   A0_1  A0_5      True    0.774225772900765    0.612887113549618   0.387112886450382  0.288193814013827\n",
      "3   A0_1  A0_5     False    0.775063334802974    0.612468332598513   0.387531667401487  0.288193814013827\n",
      "4   A0_1  A1_1      True  0.00870644390777613  0.00435322195388807   0.995646778046112  -2.71541161790461\n",
      "5   A0_1  A1_1     False  0.00872328753865265  0.00436164376932633   0.995638356230674  -2.71541161790461\n",
      "6   A0_1  N0_1      True                  NaN                  NaN                 NaN                NaN\n",
      "7   A0_1  N0_1     False                  NaN                  NaN                 NaN                NaN\n",
      "8   B0_1  A0_5      True    0.577117950744803    0.288558975372402   0.711441024627598 -0.560764686054619\n",
      "9   B0_1  A0_5     False    0.578911736429999       0.289455868215      0.710544131785 -0.560764686054619\n",
      "10  B0_1  A1_1      True 3.70604716632643e-07 1.85302358316321e-07   0.999999814697642  -5.73537734406249\n",
      "11  B0_1  A1_1     False 3.71926190464457e-07 1.85963095232228e-07   0.999999814036905  -5.73537734406249\n",
      "12  B0_1  N0_1      True                  NaN                  NaN                 NaN                NaN\n",
      "13  B0_1  N0_1     False                  NaN                  NaN                 NaN                NaN\n",
      "14  A0_5  A1_1      True    0.277838791628591    0.138919395814295   0.861080604185705   -1.0954702690982\n",
      "15  A0_5  A1_1     False    0.281635257824637    0.140817628912319   0.859182371087681   -1.0954702690982\n",
      "16  A0_5  N0_1      True                  NaN                  NaN                 NaN                NaN\n",
      "17  A0_5  N0_1     False                  NaN                  NaN                 NaN                NaN\n",
      "18  A1_1  N0_1      True                  NaN                  NaN                 NaN                NaN\n",
      "19  A1_1  N0_1     False                  NaN                  NaN                 NaN                NaN\n"
     ]
    }
   ],
   "source": [
    "ind_frame = pd.DataFrame(ind_table).reindex(columns=[\"X\", \"Y\", \"EqualVar\", \"Two-sided\", \"Less\", \"Greater\", \"T\"])\n",
    "print(ind_frame)"
   ]
  },
  {
   "attachments": {},
   "cell_type": "markdown",
   "metadata": {},
   "source": [
    "# Paired t-test Results"
   ]
  },
  {
   "cell_type": "code",
   "execution_count": 10,
   "metadata": {},
   "outputs": [
    {
     "name": "stdout",
     "output_type": "stream",
     "text": [
      "      X     Y  Dof            Two-sided                 Less             Greater                  T\n",
      "0  A0_1  B0_1   29   0.0118895217898545    0.994055239105073 0.00594476089492724   2.68422691922095\n",
      "1  A0_1  A0_5   29    0.777780971172766    0.611109514413617   0.388890485586383  0.284853246006453\n",
      "2  A0_1  A1_1   29   0.0129506424264915  0.00647532121324574   0.993524678786754  -2.64827613986959\n",
      "3  A0_1  N0_1  NaN                  NaN                  NaN                 NaN                NaN\n",
      "4  B0_1  A0_5   29    0.584986582788624    0.292493291394312   0.707506708605688 -0.552282522403587\n",
      "5  B0_1  A1_1   29 2.78179975094044e-06 1.39089987547022e-06   0.999998609100125  -5.79725300783954\n",
      "6  B0_1  N0_1  NaN                  NaN                  NaN                 NaN                NaN\n",
      "7  A0_5  A1_1   29    0.291848671138791    0.145924335569396   0.854075664430604  -1.07361320791624\n",
      "8  A0_5  N0_1  NaN                  NaN                  NaN                 NaN                NaN\n",
      "9  A1_1  N0_1  NaN                  NaN                  NaN                 NaN                NaN\n"
     ]
    }
   ],
   "source": [
    "paired_frame = pd.DataFrame(paired_table).reindex(columns=[\"X\", \"Y\", \"Dof\", \"Two-sided\", \"Less\", \"Greater\", \"T\"])\n",
    "print(paired_frame)"
   ]
  }
 ],
 "metadata": {
  "kernelspec": {
   "display_name": "Python 3",
   "language": "python",
   "name": "python3"
  },
  "language_info": {
   "codemirror_mode": {
    "name": "ipython",
    "version": 3
   },
   "file_extension": ".py",
   "mimetype": "text/x-python",
   "name": "python",
   "nbconvert_exporter": "python",
   "pygments_lexer": "ipython3",
   "version": "3.10.4"
  },
  "orig_nbformat": 4,
  "vscode": {
   "interpreter": {
    "hash": "369f2c481f4da34e4445cda3fffd2e751bd1c4d706f27375911949ba6bb62e1c"
   }
  }
 },
 "nbformat": 4,
 "nbformat_minor": 2
}
